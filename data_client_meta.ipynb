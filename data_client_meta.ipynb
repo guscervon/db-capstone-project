{
 "cells": [
  {
   "cell_type": "code",
   "execution_count": null,
   "metadata": {},
   "outputs": [],
   "source": [
    "!pip install mysql-connector-python"
   ]
  },
  {
   "cell_type": "code",
   "execution_count": null,
   "metadata": {},
   "outputs": [],
   "source": [
    "import mysql.connector as connector\n",
    "\n",
    "connection = connector.connect(user = \"your_user_name\", password = \"your_password_for_database\", db = \"database_name\")\n",
    "cursor = connection.cursor()"
   ]
  },
  {
   "cell_type": "code",
   "execution_count": null,
   "metadata": {},
   "outputs": [],
   "source": [
    "show_tables_query = \"SHOW tables\" \n",
    "cursor.execute(show_tables_query)\n",
    "result = cursor.fetchall()\n",
    "\n",
    "print(result)"
   ]
  },
  {
   "cell_type": "code",
   "execution_count": null,
   "metadata": {},
   "outputs": [],
   "source": [
    "task_sql = \"\"\"\n",
    "SELECT\n",
    "    Customers.*,\n",
    "    Orders.totalCost\n",
    "FROM\n",
    "    Orders\n",
    "INNER JOIN Customers\n",
    "ON\n",
    "    Orders.idCustumer = Customers.id\n",
    "WHERE\n",
    "    Orders.totalCost > 60;\n",
    "\"\"\"\n",
    "\n",
    "cursor.execute(task_sql)\n",
    "dataset = cursor.fetchall()\n"
   ]
  }
 ],
 "metadata": {
  "language_info": {
   "name": "python"
  }
 },
 "nbformat": 4,
 "nbformat_minor": 2
}
